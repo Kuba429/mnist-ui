{
 "cells": [
  {
   "cell_type": "code",
   "execution_count": 1,
   "metadata": {},
   "outputs": [],
   "source": [
    "import tensorflow as tf\n",
    "from keras.datasets import mnist\n",
    "import numpy\n",
    "import json"
   ]
  },
  {
   "cell_type": "code",
   "execution_count": 63,
   "metadata": {},
   "outputs": [],
   "source": [
    "(x_train, y_train), (x_test, y_test) = mnist.load_data()\n",
    "# x_train = tf.keras.utils.normalize(x_train, axis=1 )\n",
    "# x_test = tf.keras.utils.normalize(x_test, axis=1 )\n",
    "new_x_train, new_y_train = [], []\n",
    "with open(\"data.json\") as f:\n",
    "    data = json.load(f)\n",
    "    for i in data:\n",
    "        raw_rows = json.loads(i[\"array\"]) # list of lists of ints\n",
    "        new_rows=[] # make the list above into numpy array of arrays of uint8s\n",
    "        for row in raw_rows:\n",
    "            new_rows.append(numpy.array(row, dtype=\"uint8\"))\n",
    "        new_x_train.append(new_rows)\n",
    "        new_y_train.append(numpy.uint8(i[\"digit\"]))\n",
    "\n",
    "new_x_train = numpy.array(new_x_train)\n",
    "new_y_train = numpy.array(new_y_train)\n",
    "x_train = numpy.array([*x_train, *new_x_train])\n",
    "y_train = numpy.array([*y_train, *new_y_train])"
   ]
  },
  {
   "cell_type": "code",
   "execution_count": 65,
   "metadata": {},
   "outputs": [
    {
     "name": "stdout",
     "output_type": "stream",
     "text": [
      "Epoch 1/3\n",
      "1876/1876 [==============================] - 3s 1ms/step - loss: 1.6237 - accuracy: 0.8812\n",
      "Epoch 2/3\n",
      "1876/1876 [==============================] - 3s 1ms/step - loss: 0.3991 - accuracy: 0.9294\n",
      "Epoch 3/3\n",
      "1876/1876 [==============================] - 3s 1ms/step - loss: 0.2353 - accuracy: 0.9446\n"
     ]
    },
    {
     "data": {
      "text/plain": [
       "<keras.callbacks.History at 0x16d3f6a10>"
      ]
     },
     "execution_count": 65,
     "metadata": {},
     "output_type": "execute_result"
    }
   ],
   "source": [
    "model = tf.keras.models.Sequential()\n",
    "model.add(tf.keras.layers.Normalization(axis=1))\n",
    "model.add(tf.keras.layers.Flatten())\n",
    "model.add(tf.keras.layers.Dense(units=128, activation=tf.nn.relu))\n",
    "model.add(tf.keras.layers.Dense(units=128, activation=tf.nn.relu))\n",
    "model.add(tf.keras.layers.Dense(units=10, activation=tf.nn.softmax))\n",
    "model.compile(optimizer='adam',\n",
    "              loss='sparse_categorical_crossentropy', metrics=[\"accuracy\"])\n",
    "model.fit(x_train, y_train, epochs=3)"
   ]
  },
  {
   "cell_type": "code",
   "execution_count": null,
   "metadata": {},
   "outputs": [
    {
     "name": "stderr",
     "output_type": "stream",
     "text": [
      "WARNING:absl:Found untraced functions such as _update_step_xla while saving (showing 1 of 1). These functions will not be directly callable after loading.\n"
     ]
    },
    {
     "name": "stdout",
     "output_type": "stream",
     "text": [
      "INFO:tensorflow:Assets written to: mnist.model/assets\n"
     ]
    },
    {
     "name": "stderr",
     "output_type": "stream",
     "text": [
      "INFO:tensorflow:Assets written to: mnist.model/assets\n"
     ]
    }
   ],
   "source": [
    "model.save(\"mnist.model\")"
   ]
  },
  {
   "cell_type": "code",
   "execution_count": null,
   "metadata": {},
   "outputs": [
    {
     "name": "stdout",
     "output_type": "stream",
     "text": [
      "weight normalization/count with shape () and dtype int64 was auto converted to the type int32\n"
     ]
    }
   ],
   "source": [
    "import tensorflowjs as tfjs\n",
    "tfjs.converters.save_keras_model(model, \"../client/src/assets/mnist.model\")"
   ]
  }
 ],
 "metadata": {
  "kernelspec": {
   "display_name": "Python 3",
   "language": "python",
   "name": "python3"
  },
  "language_info": {
   "codemirror_mode": {
    "name": "ipython",
    "version": 3
   },
   "file_extension": ".py",
   "mimetype": "text/x-python",
   "name": "python",
   "nbconvert_exporter": "python",
   "pygments_lexer": "ipython3",
   "version": "3.10.8 | packaged by conda-forge | (main, Nov 22 2022, 08:25:29) [Clang 14.0.6 ]"
  },
  "orig_nbformat": 4,
  "vscode": {
   "interpreter": {
    "hash": "636c46ac5be7f54ed69991a02ffa4c71819c8b96f25f795b4a34f0901ef4ee9f"
   }
  }
 },
 "nbformat": 4,
 "nbformat_minor": 2
}
